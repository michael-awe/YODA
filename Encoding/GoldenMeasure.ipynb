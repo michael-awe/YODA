{
 "cells": [
  {
   "cell_type": "code",
   "execution_count": 22,
   "id": "c7c85305-793d-4eab-a309-0ef3530a655d",
   "metadata": {},
   "outputs": [],
   "source": [
    "# The golden measure performs the entire encoding and decoding project within Python\n",
    "\n",
    "# Imports\n",
    "from PIL import Image\n",
    "import wave\n",
    "from scipy.io import wavfile\n",
    "import time\n",
    "\n",
    "def encoding(audio,png, LSB_encoding_depth):\n",
    "    # audio contains the wav file\n",
    "    # png contains the image\n",
    "    # LSB_encoding_depth defines the amount of bits that should be encoded in each RGB colour code\n",
    "\n",
    "    # Open the wav file\n",
    "    wav_file = wave.open(audio) \n",
    "    \n",
    "    # Get the file properties\n",
    "    num_channels = wav_file.getnchannels()\n",
    "    sample_width = wav_file.getsampwidth()\n",
    "    sample_rate = wav_file.getframerate()\n",
    "    num_frames = wav_file.getnframes()\n",
    "    duration = num_frames / sample_rate  \n",
    "\n",
    "    # Close the file\n",
    "    wav_file.close()\n",
    "\n",
    "    # Open the wav file using wavfile\n",
    "    samplerate, data = wavfile.read('./obiwan.wav')\n",
    "    \n",
    "    # Convert audio to single channel\n",
    "    if num_channels != 1:\n",
    "        data = data[:, 0]\n",
    "    \n",
    "    # Shift all data samples up by 2^15 to make all samples positive\n",
    "    data = data + 2**15\n",
    "    \n",
    "    # Convert data to a bitstream \n",
    "    audio_bitstream = \"\"\n",
    "    for sample in data:\n",
    "        audio_bitstream += format(sample, '016b')\n",
    "    \n",
    "    # Get length of audio_bitstream\n",
    "    audio_length = len(audio_bitstream)\n",
    "    audio_length_binary = format(audio_length, '024b')\n",
    "    print(audio_length_binary)\n",
    "    \n",
    "    # Attach audio length to the audio bitstream\n",
    "    a_bitstream = audio_bitstream\n",
    "    audio_bitstream = audio_length_binary + audio_bitstream\n",
    "\n",
    "    \n",
    "    # Begin Image processing \n",
    "    # Load the PNG image\n",
    "    image = Image.open(png)\n",
    "    \n",
    "    # Get the size of the image\n",
    "    width, height = image.size\n",
    "    \n",
    "    # Checks image to ensure correct size\n",
    "    if width != 1000 or height != 1000:       \n",
    "        print(\"Wrong image size!\")\n",
    "        exit()\n",
    "    else:\n",
    "        # Convert the image to RGB mode \n",
    "        image_rgb = image.convert(\"RGB\")\n",
    "    \n",
    "        # Get pixel data of image\n",
    "        pixels = image_rgb.load()\n",
    "    \n",
    "        # Convert RGB values to binary and store in a 2D array\n",
    "        binary_pixels = []\n",
    "        for y in range(image.height):\n",
    "            row = []\n",
    "            for x in range(image.width):\n",
    "                r, g, b = pixels[x, y]\n",
    "                binary_r = bin(r)[2:].zfill(8)  # Convert red value to binary with 8 bits\n",
    "                binary_g = bin(g)[2:].zfill(8)  # Convert green value to binary with 8 bits\n",
    "                binary_b = bin(b)[2:].zfill(8)  # Convert blue value to binary with 8 bits\n",
    "                row.append((binary_r, binary_g, binary_b))\n",
    "            binary_pixels.append(row)\n",
    "\n",
    "    \n",
    "    # Begin encoding process \n",
    "    encoded_golden_measure = Image.new(\"RGB\", (width, height))\n",
    "    # Convert binary pixel data back to image and encode the image simultaneously\n",
    "    encoded_pixels = encoded_golden_measure.load()\n",
    "    \n",
    "    # Initialise variables to store the continuous bit stream\n",
    "    encoded_bitstream = \"\" # Will contain the encoded image bitstream for sending\n",
    "    stream_index = 0\n",
    "\n",
    "    # Iterates through each pixel in the image\n",
    "    for y in range(image.height):\n",
    "        row = []\n",
    "        for x in range(image.width):\n",
    "            # Get the RGB values of the current pixel\n",
    "            binary_r, binary_g, binary_b = binary_pixels[y][x]\n",
    "            # Modifies last two digits of each color component if audio stream has bits left\n",
    "            if stream_index < len(audio_bitstream) - 1:\n",
    "                r = binary_r[:-LSB_encoding_depth]\n",
    "                for n in range(LSB_encoding_depth):\n",
    "                    r += audio_bitstream[stream_index + n]\n",
    "                stream_index += LSB_encoding_depth\n",
    "            else:\n",
    "                r = binary_r\n",
    "                \n",
    "            if stream_index < len(audio_bitstream) - 1:\n",
    "                g = binary_g[:-LSB_encoding_depth]\n",
    "                for n in range(LSB_encoding_depth):\n",
    "                    g += audio_bitstream[stream_index + n]\n",
    "                stream_index += LSB_encoding_depth\n",
    "            else:\n",
    "                g = binary_g\n",
    "                \n",
    "            if stream_index < len(audio_bitstream) - 1:\n",
    "                b = binary_b[:-LSB_encoding_depth]\n",
    "                for n in range(LSB_encoding_depth):\n",
    "                    r += audio_bitstream[stream_index + n]\n",
    "                stream_index += LSB_encoding_depth\n",
    "            else:\n",
    "                b = binary_b\n",
    "    \n",
    "            # Store modified RGB values in the encoded array\n",
    "            row.append((r, g, b))\n",
    "    \n",
    "            # Append the modified bits to the continuous bit stream\n",
    "            encoded_bitstream += r + g + b\n",
    "    \n",
    "            # Convert binary RGB values back to integer\n",
    "            r_int = int(r, 2)\n",
    "            g_int = int(g, 2)\n",
    "            b_int = int(b, 2)\n",
    "            \n",
    "            # Set pixel value in the new image\n",
    "            encoded_pixels[x, y] = (r_int, g_int, b_int)\n",
    "\n",
    "    # Save the encoded image\n",
    "    encoded_golden_measure.save(\"encoded_golden_measure.png\")  \n",
    "    return encoded_bitstream"
   ]
  },
  {
   "cell_type": "code",
   "execution_count": 23,
   "id": "72918e48-7c57-4b08-a4f4-f20c4b9d79d1",
   "metadata": {},
   "outputs": [
    {
     "name": "stdout",
     "output_type": "stream",
     "text": [
      "001011110100000000000000\n"
     ]
    }
   ],
   "source": [
    "a = \"./obiwan.wav\"\n",
    "\n",
    "i = \"./babyyoda.png\"\n",
    "\n",
    "b = encoding(a, i, 5)"
   ]
  },
  {
   "cell_type": "code",
   "execution_count": 33,
   "id": "efd8c2a8-59d1-4ba1-b035-7ca6e46bc53c",
   "metadata": {},
   "outputs": [],
   "source": [
    "from PIL import Image\n",
    "import wave\n",
    "from scipy.io import wavfile\n",
    "import time\n",
    "\n",
    "def decoding(encoded_image, LSB_encoding_depth):\n",
    "    # Load the PNG image\n",
    "    image = Image.open(encoded_image)\n",
    "    \n",
    "    # Get the size of the image\n",
    "    width, height = image.size\n",
    "\n",
    "    # Convert the image to RGB mode \n",
    "    image_rgb = image.convert(\"RGB\")\n",
    "\n",
    "    # Get pixel data of image\n",
    "    pixels = image_rgb.load()\n",
    "\n",
    "    # Convert RGB values to binary and store in a 2D array\n",
    "    image_bitstream = ''\n",
    "    for y in range(image.height):\n",
    "        for x in range(image.width):\n",
    "            r, g, b = pixels[x, y]\n",
    "            binary_r = bin(r)[2:].zfill(8)  # Convert red value to binary with 8 bits\n",
    "            binary_g = bin(g)[2:].zfill(8)  # Convert green value to binary with 8 bits\n",
    "            binary_b = bin(b)[2:].zfill(8)  # Convert blue value to binary with 8 bits\n",
    "            image_bitstream += binary_r + binary_g + binary_b\n",
    "\n",
    "\n",
    "    # # Needs work - > don't know how many pixels to extract\n",
    "    # # Find length of audio by extracting the first 24 bits\n",
    "    # audio_length_bitstream = ''\n",
    "    # n = 0\n",
    "    # while n <= 8:\n",
    "    #     audio_length_bitstream += image_bitstream[8*n - LSB_encoding_depth:8*n]\n",
    "    #     n = n + 1\n",
    "    #     if len(audio_length_bitstream) > 24:\n",
    "    #         audio_length_bitstream = audio_length_bitstream[:23]\n",
    "    #         break \n",
    "\n",
    "    # # Convert audi length from binary to decimal \n",
    "    # audio_length = int(audio_length_bitstream, 2)\n",
    "\n",
    "    # # Cycle throught the rest of the image and extract the secret audio\n",
    "    # decoded_audio = ''\n",
    "    # n = 12\n",
    "    # while len(decoded_audio) <= audio_length:\n",
    "    #     decoded_audio += image_bitstream[8*n - LSB_encoding_depth:8*n]\n",
    "    #     n = n + 1\n",
    "    \n",
    "    return image_bitstream\n",
    "\n",
    "        \n",
    "    "
   ]
  },
  {
   "cell_type": "code",
   "execution_count": 34,
   "id": "92642d09-cd4a-4ff4-a5d6-f2ce5a47a13d",
   "metadata": {},
   "outputs": [],
   "source": [
    "d = decoding(\"./encoded_golden_measure.png\", 5)"
   ]
  },
  {
   "cell_type": "code",
   "execution_count": 36,
   "id": "d7481509-516d-477a-8bc2-070b994a7f60",
   "metadata": {},
   "outputs": [
    {
     "name": "stdout",
     "output_type": "stream",
     "text": [
      "96\n"
     ]
    }
   ],
   "source": []
  },
  {
   "cell_type": "code",
   "execution_count": 19,
   "id": "e5425a67-bb63-4ccc-aa36-73a9aaf55432",
   "metadata": {},
   "outputs": [],
   "source": [
    "audio_length = int(d, 2)"
   ]
  },
  {
   "cell_type": "code",
   "execution_count": 21,
   "id": "a4b5bb0f-d35b-47fd-af5f-07688dbcd950",
   "metadata": {},
   "outputs": [
    {
     "name": "stdout",
     "output_type": "stream",
     "text": [
      "237568\n"
     ]
    }
   ],
   "source": [
    "print(audio_length)"
   ]
  },
  {
   "cell_type": "code",
   "execution_count": 32,
   "id": "b30a9cad-cd8d-4e9b-9cf5-bf9e58a79b06",
   "metadata": {},
   "outputs": [
    {
     "name": "stdout",
     "output_type": "stream",
     "text": [
      "67\n"
     ]
    }
   ],
   "source": [
    "c = '0123456789'\n",
    "print(c[8-2:8])"
   ]
  },
  {
   "cell_type": "code",
   "execution_count": null,
   "id": "df08f8b1-81aa-47d0-9c4a-c53f847d6a47",
   "metadata": {},
   "outputs": [],
   "source": []
  }
 ],
 "metadata": {
  "kernelspec": {
   "display_name": "Python 3 (ipykernel)",
   "language": "python",
   "name": "python3"
  },
  "language_info": {
   "codemirror_mode": {
    "name": "ipython",
    "version": 3
   },
   "file_extension": ".py",
   "mimetype": "text/x-python",
   "name": "python",
   "nbconvert_exporter": "python",
   "pygments_lexer": "ipython3",
   "version": "3.9.18"
  }
 },
 "nbformat": 4,
 "nbformat_minor": 5
}
